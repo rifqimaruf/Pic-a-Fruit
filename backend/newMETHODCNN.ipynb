{
 "cells": [
  {
   "cell_type": "code",
   "execution_count": 45,
   "id": "850ad55b",
   "metadata": {},
   "outputs": [],
   "source": [
    "from tensorflow import keras\n",
    "from tensorflow.keras import layers, regularizers\n",
    "from tensorflow.keras.callbacks import EarlyStopping, ReduceLROnPlateau\n",
    "\n",
    "# Using VGG19 instead of VGG16\n",
    "base_model = keras.applications.VGG19(\n",
    "    weights='imagenet',\n",
    "    input_shape=(224, 224, 3),\n",
    "    include_top=False)"
   ]
  },
  {
   "cell_type": "code",
   "execution_count": 46,
   "id": "0513e679",
   "metadata": {},
   "outputs": [],
   "source": [
    "# Freeze more layers - only unfreeze last few convolutional blocks\n",
    "for layer in base_model.layers[:15]:\n",
    "    layer.trainable = False\n",
    "for layer in base_model.layers[15:]:\n",
    "    layer.trainable = True\n",
    "\n",
    "inputs = keras.Input(shape=(224, 224, 3))"
   ]
  },
  {
   "cell_type": "code",
   "execution_count": 47,
   "id": "dd4390a5",
   "metadata": {},
   "outputs": [
    {
     "name": "stdout",
     "output_type": "stream",
     "text": [
      "Model: \"model_3\"\n",
      "_________________________________________________________________\n",
      " Layer (type)                Output Shape              Param #   \n",
      "=================================================================\n",
      " input_8 (InputLayer)        [(None, 224, 224, 3)]     0         \n",
      "                                                                 \n",
      " random_contrast_3 (RandomCo  (None, 224, 224, 3)      0         \n",
      " ntrast)                                                         \n",
      "                                                                 \n",
      " random_zoom_3 (RandomZoom)  (None, 224, 224, 3)       0         \n",
      "                                                                 \n",
      " vgg19 (Functional)          (None, 7, 7, 512)         20024384  \n",
      "                                                                 \n",
      " global_average_pooling2d_3   (None, 512)              0         \n",
      " (GlobalAveragePooling2D)                                        \n",
      "                                                                 \n",
      " dense_6 (Dense)             (None, 512)               262656    \n",
      "                                                                 \n",
      " dropout_3 (Dropout)         (None, 512)               0         \n",
      "                                                                 \n",
      " batch_normalization_3 (Batc  (None, 512)              2048      \n",
      " hNormalization)                                                 \n",
      "                                                                 \n",
      " dense_7 (Dense)             (None, 12)                6156      \n",
      "                                                                 \n",
      "=================================================================\n",
      "Total params: 20,295,244\n",
      "Trainable params: 12,068,876\n",
      "Non-trainable params: 8,226,368\n",
      "_________________________________________________________________\n"
     ]
    }
   ],
   "source": [
    "# Add some preprocessing layers\n",
    "x = keras.layers.experimental.preprocessing.RandomContrast(0.1)(inputs)\n",
    "x = keras.layers.experimental.preprocessing.RandomZoom(0.1)(x)\n",
    "x = base_model(x, training=False)\n",
    "\n",
    "x = keras.layers.GlobalAveragePooling2D()(x)\n",
    "x = keras.layers.Dense(512, activation='relu', \n",
    "                kernel_regularizer=regularizers.l2(0.01))(x)\n",
    "x = keras.layers.Dropout(0.5)(x)\n",
    "x = keras.layers.BatchNormalization()(x)\n",
    "\n",
    "num_classes = 12\n",
    "outputs = keras.layers.Dense(num_classes, activation='softmax')(x)\n",
    "\n",
    "model = keras.Model(inputs, outputs)\n",
    "\n",
    "model.summary()"
   ]
  },
  {
   "cell_type": "code",
   "execution_count": 48,
   "id": "679e3782",
   "metadata": {},
   "outputs": [],
   "source": [
    "# Enhanced data augmentation\n",
    "from tensorflow.keras.preprocessing.image import ImageDataGenerator\n",
    "\n",
    "\n",
    "train_datagen = ImageDataGenerator(\n",
    "    rescale=1.0/255,\n",
    "    rotation_range=10,\n",
    "    width_shift_range=0.3,\n",
    "    height_shift_range=0.3,\n",
    "    shear_range=0.3,\n",
    "    zoom_range=0.3,\n",
    "    horizontal_flip=True,\n",
    "    vertical_flip=True,\n",
    "    fill_mode='nearest',\n",
    "    validation_split=0.2\n",
    ")"
   ]
  },
  {
   "cell_type": "code",
   "execution_count": 49,
   "id": "2c80144a",
   "metadata": {},
   "outputs": [
    {
     "name": "stdout",
     "output_type": "stream",
     "text": [
      "Found 2173 images belonging to 12 classes.\n",
      "Found 536 images belonging to 12 classes.\n"
     ]
    }
   ],
   "source": [
    "# Load datasets\n",
    "train_it = train_datagen.flow_from_directory(\n",
    "    'AUGLOKAL/train',\n",
    "    target_size=(224, 224),\n",
    "    color_mode='rgb',\n",
    "    class_mode=\"categorical\",\n",
    "    subset='training',\n",
    "    batch_size=32\n",
    ")\n",
    "\n",
    "valid_it = train_datagen.flow_from_directory(\n",
    "    'AUGLOKAL/train',\n",
    "    target_size=(224, 224),\n",
    "    color_mode='rgb',\n",
    "    class_mode=\"categorical\",\n",
    "    subset='validation',\n",
    "    batch_size=32,\n",
    "    shuffle=False\n",
    ")"
   ]
  },
  {
   "cell_type": "code",
   "execution_count": 50,
   "id": "e64ce81b",
   "metadata": {},
   "outputs": [
    {
     "name": "stdout",
     "output_type": "stream",
     "text": [
      "\n",
      "Class Weights:\n",
      "Kelas 0: 0.91x bobot\n",
      "Kelas 1: 0.90x bobot\n",
      "Kelas 2: 1.56x bobot\n",
      "Kelas 3: 1.37x bobot\n",
      "Kelas 4: 0.89x bobot\n",
      "Kelas 5: 1.74x bobot\n",
      "Kelas 6: 0.95x bobot\n",
      "Kelas 7: 1.57x bobot\n",
      "Kelas 8: 0.65x bobot\n",
      "Kelas 9: 0.50x bobot\n",
      "Kelas 10: 1.31x bobot\n",
      "Kelas 11: 1.39x bobot\n"
     ]
    }
   ],
   "source": [
    "from sklearn.utils.class_weight import compute_class_weight\n",
    "import numpy as np\n",
    "\n",
    "class_weights = compute_class_weight(\n",
    "    'balanced',\n",
    "    classes=np.unique(train_it.classes),\n",
    "    y=train_it.classes\n",
    ")\n",
    "class_weights = dict(enumerate(class_weights))\n",
    "\n",
    "print(\"\\nClass Weights:\")\n",
    "for i, w in enumerate(class_weights.values()):\n",
    "    print(f\"Kelas {i}: {w:.2f}x bobot\")"
   ]
  },
  {
   "cell_type": "code",
   "execution_count": 51,
   "id": "a64cb950",
   "metadata": {},
   "outputs": [],
   "source": [
    "# Callbacks\n",
    "early_stopping = EarlyStopping(\n",
    "    monitor='val_loss',\n",
    "    patience=10,\n",
    "    restore_best_weights=True\n",
    ")\n",
    "\n",
    "reduce_lr = ReduceLROnPlateau(\n",
    "    monitor='val_loss',\n",
    "    factor=0.2,\n",
    "    patience=5,\n",
    "    min_lr=1e-7\n",
    ")"
   ]
  },
  {
   "cell_type": "code",
   "execution_count": null,
   "id": "58e2ebc5",
   "metadata": {},
   "outputs": [],
   "source": [
    "# Compile with lower learning rate\n",
    "model.compile(\n",
    "    optimizer=keras.optimizers.RMSprop(learning_rate=1e-5),\n",
    "    loss='categorical_crossentropy',\n",
    "    metrics=['accuracy']\n",
    ")"
   ]
  },
  {
   "cell_type": "code",
   "execution_count": 53,
   "id": "db9cf50f",
   "metadata": {},
   "outputs": [
    {
     "name": "stdout",
     "output_type": "stream",
     "text": [
      "Epoch 1/50\n",
      "WARNING:tensorflow:Using a while_loop for converting RngReadAndSkip cause there is no registered converter for this op.\n"
     ]
    },
    {
     "name": "stderr",
     "output_type": "stream",
     "text": [
      "WARNING:tensorflow:Using a while_loop for converting RngReadAndSkip cause there is no registered converter for this op.\n"
     ]
    },
    {
     "name": "stdout",
     "output_type": "stream",
     "text": [
      "WARNING:tensorflow:Using a while_loop for converting Bitcast cause there is no registered converter for this op.\n"
     ]
    },
    {
     "name": "stderr",
     "output_type": "stream",
     "text": [
      "WARNING:tensorflow:Using a while_loop for converting Bitcast cause there is no registered converter for this op.\n"
     ]
    },
    {
     "name": "stdout",
     "output_type": "stream",
     "text": [
      "WARNING:tensorflow:Using a while_loop for converting Bitcast cause there is no registered converter for this op.\n"
     ]
    },
    {
     "name": "stderr",
     "output_type": "stream",
     "text": [
      "WARNING:tensorflow:Using a while_loop for converting Bitcast cause there is no registered converter for this op.\n"
     ]
    },
    {
     "name": "stdout",
     "output_type": "stream",
     "text": [
      "WARNING:tensorflow:Using a while_loop for converting StatelessRandomUniformFullIntV2 cause there is no registered converter for this op.\n"
     ]
    },
    {
     "name": "stderr",
     "output_type": "stream",
     "text": [
      "WARNING:tensorflow:Using a while_loop for converting StatelessRandomUniformFullIntV2 cause there is no registered converter for this op.\n"
     ]
    },
    {
     "name": "stdout",
     "output_type": "stream",
     "text": [
      "WARNING:tensorflow:Using a while_loop for converting StatelessRandomGetKeyCounter cause there is no registered converter for this op.\n"
     ]
    },
    {
     "name": "stderr",
     "output_type": "stream",
     "text": [
      "WARNING:tensorflow:Using a while_loop for converting StatelessRandomGetKeyCounter cause there is no registered converter for this op.\n"
     ]
    },
    {
     "name": "stdout",
     "output_type": "stream",
     "text": [
      "WARNING:tensorflow:Using a while_loop for converting StatelessRandomUniformV2 cause there is no registered converter for this op.\n"
     ]
    },
    {
     "name": "stderr",
     "output_type": "stream",
     "text": [
      "WARNING:tensorflow:Using a while_loop for converting StatelessRandomUniformV2 cause there is no registered converter for this op.\n"
     ]
    },
    {
     "name": "stdout",
     "output_type": "stream",
     "text": [
      "WARNING:tensorflow:Using a while_loop for converting AdjustContrastv2 cause Input \"contrast_factor\" of op 'AdjustContrastv2' expected to be loop invariant.\n"
     ]
    },
    {
     "name": "stderr",
     "output_type": "stream",
     "text": [
      "WARNING:tensorflow:Using a while_loop for converting AdjustContrastv2 cause Input \"contrast_factor\" of op 'AdjustContrastv2' expected to be loop invariant.\n"
     ]
    },
    {
     "name": "stdout",
     "output_type": "stream",
     "text": [
      "WARNING:tensorflow:Using a while_loop for converting RngReadAndSkip cause there is no registered converter for this op.\n"
     ]
    },
    {
     "name": "stderr",
     "output_type": "stream",
     "text": [
      "WARNING:tensorflow:Using a while_loop for converting RngReadAndSkip cause there is no registered converter for this op.\n"
     ]
    },
    {
     "name": "stdout",
     "output_type": "stream",
     "text": [
      "WARNING:tensorflow:Using a while_loop for converting Bitcast cause there is no registered converter for this op.\n"
     ]
    },
    {
     "name": "stderr",
     "output_type": "stream",
     "text": [
      "WARNING:tensorflow:Using a while_loop for converting Bitcast cause there is no registered converter for this op.\n"
     ]
    },
    {
     "name": "stdout",
     "output_type": "stream",
     "text": [
      "WARNING:tensorflow:Using a while_loop for converting Bitcast cause there is no registered converter for this op.\n"
     ]
    },
    {
     "name": "stderr",
     "output_type": "stream",
     "text": [
      "WARNING:tensorflow:Using a while_loop for converting Bitcast cause there is no registered converter for this op.\n"
     ]
    },
    {
     "name": "stdout",
     "output_type": "stream",
     "text": [
      "WARNING:tensorflow:Using a while_loop for converting StatelessRandomUniformV2 cause there is no registered converter for this op.\n"
     ]
    },
    {
     "name": "stderr",
     "output_type": "stream",
     "text": [
      "WARNING:tensorflow:Using a while_loop for converting StatelessRandomUniformV2 cause there is no registered converter for this op.\n"
     ]
    },
    {
     "name": "stdout",
     "output_type": "stream",
     "text": [
      "WARNING:tensorflow:Using a while_loop for converting ImageProjectiveTransformV3 cause there is no registered converter for this op.\n"
     ]
    },
    {
     "name": "stderr",
     "output_type": "stream",
     "text": [
      "WARNING:tensorflow:Using a while_loop for converting ImageProjectiveTransformV3 cause there is no registered converter for this op.\n"
     ]
    },
    {
     "name": "stdout",
     "output_type": "stream",
     "text": [
      "WARNING:tensorflow:Using a while_loop for converting RngReadAndSkip cause there is no registered converter for this op.\n"
     ]
    },
    {
     "name": "stderr",
     "output_type": "stream",
     "text": [
      "WARNING:tensorflow:Using a while_loop for converting RngReadAndSkip cause there is no registered converter for this op.\n"
     ]
    },
    {
     "name": "stdout",
     "output_type": "stream",
     "text": [
      "WARNING:tensorflow:Using a while_loop for converting Bitcast cause there is no registered converter for this op.\n"
     ]
    },
    {
     "name": "stderr",
     "output_type": "stream",
     "text": [
      "WARNING:tensorflow:Using a while_loop for converting Bitcast cause there is no registered converter for this op.\n"
     ]
    },
    {
     "name": "stdout",
     "output_type": "stream",
     "text": [
      "WARNING:tensorflow:Using a while_loop for converting Bitcast cause there is no registered converter for this op.\n"
     ]
    },
    {
     "name": "stderr",
     "output_type": "stream",
     "text": [
      "WARNING:tensorflow:Using a while_loop for converting Bitcast cause there is no registered converter for this op.\n"
     ]
    },
    {
     "name": "stdout",
     "output_type": "stream",
     "text": [
      "WARNING:tensorflow:Using a while_loop for converting StatelessRandomUniformFullIntV2 cause there is no registered converter for this op.\n"
     ]
    },
    {
     "name": "stderr",
     "output_type": "stream",
     "text": [
      "WARNING:tensorflow:Using a while_loop for converting StatelessRandomUniformFullIntV2 cause there is no registered converter for this op.\n"
     ]
    },
    {
     "name": "stdout",
     "output_type": "stream",
     "text": [
      "WARNING:tensorflow:Using a while_loop for converting StatelessRandomGetKeyCounter cause there is no registered converter for this op.\n"
     ]
    },
    {
     "name": "stderr",
     "output_type": "stream",
     "text": [
      "WARNING:tensorflow:Using a while_loop for converting StatelessRandomGetKeyCounter cause there is no registered converter for this op.\n"
     ]
    },
    {
     "name": "stdout",
     "output_type": "stream",
     "text": [
      "WARNING:tensorflow:Using a while_loop for converting StatelessRandomUniformV2 cause there is no registered converter for this op.\n"
     ]
    },
    {
     "name": "stderr",
     "output_type": "stream",
     "text": [
      "WARNING:tensorflow:Using a while_loop for converting StatelessRandomUniformV2 cause there is no registered converter for this op.\n"
     ]
    },
    {
     "name": "stdout",
     "output_type": "stream",
     "text": [
      "WARNING:tensorflow:Using a while_loop for converting AdjustContrastv2 cause Input \"contrast_factor\" of op 'AdjustContrastv2' expected to be loop invariant.\n"
     ]
    },
    {
     "name": "stderr",
     "output_type": "stream",
     "text": [
      "WARNING:tensorflow:Using a while_loop for converting AdjustContrastv2 cause Input \"contrast_factor\" of op 'AdjustContrastv2' expected to be loop invariant.\n"
     ]
    },
    {
     "name": "stdout",
     "output_type": "stream",
     "text": [
      "WARNING:tensorflow:Using a while_loop for converting RngReadAndSkip cause there is no registered converter for this op.\n"
     ]
    },
    {
     "name": "stderr",
     "output_type": "stream",
     "text": [
      "WARNING:tensorflow:Using a while_loop for converting RngReadAndSkip cause there is no registered converter for this op.\n"
     ]
    },
    {
     "name": "stdout",
     "output_type": "stream",
     "text": [
      "WARNING:tensorflow:Using a while_loop for converting Bitcast cause there is no registered converter for this op.\n"
     ]
    },
    {
     "name": "stderr",
     "output_type": "stream",
     "text": [
      "WARNING:tensorflow:Using a while_loop for converting Bitcast cause there is no registered converter for this op.\n"
     ]
    },
    {
     "name": "stdout",
     "output_type": "stream",
     "text": [
      "WARNING:tensorflow:Using a while_loop for converting Bitcast cause there is no registered converter for this op.\n"
     ]
    },
    {
     "name": "stderr",
     "output_type": "stream",
     "text": [
      "WARNING:tensorflow:Using a while_loop for converting Bitcast cause there is no registered converter for this op.\n"
     ]
    },
    {
     "name": "stdout",
     "output_type": "stream",
     "text": [
      "WARNING:tensorflow:Using a while_loop for converting StatelessRandomUniformV2 cause there is no registered converter for this op.\n"
     ]
    },
    {
     "name": "stderr",
     "output_type": "stream",
     "text": [
      "WARNING:tensorflow:Using a while_loop for converting StatelessRandomUniformV2 cause there is no registered converter for this op.\n"
     ]
    },
    {
     "name": "stdout",
     "output_type": "stream",
     "text": [
      "WARNING:tensorflow:Using a while_loop for converting ImageProjectiveTransformV3 cause there is no registered converter for this op.\n"
     ]
    },
    {
     "name": "stderr",
     "output_type": "stream",
     "text": [
      "WARNING:tensorflow:Using a while_loop for converting ImageProjectiveTransformV3 cause there is no registered converter for this op.\n"
     ]
    },
    {
     "name": "stdout",
     "output_type": "stream",
     "text": [
      "67/67 [==============================] - 32s 424ms/step - loss: 7.6945 - accuracy: 0.1397 - val_loss: 7.4636 - val_accuracy: 0.0801 - lr: 1.0000e-05\n",
      "Epoch 2/50\n",
      "67/67 [==============================] - 27s 394ms/step - loss: 7.2145 - accuracy: 0.2289 - val_loss: 7.1128 - val_accuracy: 0.3770 - lr: 1.0000e-05\n",
      "Epoch 3/50\n",
      "67/67 [==============================] - 27s 393ms/step - loss: 6.7453 - accuracy: 0.3596 - val_loss: 6.6749 - val_accuracy: 0.6387 - lr: 1.0000e-05\n",
      "Epoch 4/50\n",
      "67/67 [==============================] - 26s 390ms/step - loss: 6.3349 - accuracy: 0.4741 - val_loss: 6.2251 - val_accuracy: 0.7246 - lr: 1.0000e-05\n",
      "Epoch 5/50\n",
      "67/67 [==============================] - 26s 390ms/step - loss: 6.0310 - accuracy: 0.5922 - val_loss: 5.9448 - val_accuracy: 0.7637 - lr: 1.0000e-05\n",
      "Epoch 6/50\n",
      "67/67 [==============================] - 26s 392ms/step - loss: 5.7390 - accuracy: 0.6997 - val_loss: 5.6388 - val_accuracy: 0.7949 - lr: 1.0000e-05\n",
      "Epoch 7/50\n",
      "67/67 [==============================] - 26s 391ms/step - loss: 5.5814 - accuracy: 0.7286 - val_loss: 5.3471 - val_accuracy: 0.8438 - lr: 1.0000e-05\n",
      "Epoch 8/50\n",
      "67/67 [==============================] - 27s 402ms/step - loss: 5.3844 - accuracy: 0.7833 - val_loss: 5.1933 - val_accuracy: 0.8594 - lr: 1.0000e-05\n",
      "Epoch 9/50\n",
      "67/67 [==============================] - 27s 395ms/step - loss: 5.2605 - accuracy: 0.8034 - val_loss: 5.1139 - val_accuracy: 0.8730 - lr: 1.0000e-05\n",
      "Epoch 10/50\n",
      "67/67 [==============================] - 26s 393ms/step - loss: 5.1491 - accuracy: 0.8356 - val_loss: 5.0798 - val_accuracy: 0.8496 - lr: 1.0000e-05\n",
      "Epoch 11/50\n",
      "67/67 [==============================] - 27s 396ms/step - loss: 5.0536 - accuracy: 0.8496 - val_loss: 4.9619 - val_accuracy: 0.8828 - lr: 1.0000e-05\n",
      "Epoch 12/50\n",
      "67/67 [==============================] - 28s 409ms/step - loss: 4.9408 - accuracy: 0.8678 - val_loss: 4.8831 - val_accuracy: 0.8828 - lr: 1.0000e-05\n",
      "Epoch 13/50\n",
      "67/67 [==============================] - 30s 436ms/step - loss: 4.8772 - accuracy: 0.8725 - val_loss: 4.8085 - val_accuracy: 0.8828 - lr: 1.0000e-05\n",
      "Epoch 14/50\n",
      "67/67 [==============================] - 30s 441ms/step - loss: 4.7980 - accuracy: 0.8786 - val_loss: 4.7608 - val_accuracy: 0.8945 - lr: 1.0000e-05\n",
      "Epoch 15/50\n",
      "67/67 [==============================] - 27s 393ms/step - loss: 4.7203 - accuracy: 0.8977 - val_loss: 4.6919 - val_accuracy: 0.8965 - lr: 1.0000e-05\n",
      "Epoch 16/50\n",
      "67/67 [==============================] - 26s 391ms/step - loss: 4.6608 - accuracy: 0.8977 - val_loss: 4.6606 - val_accuracy: 0.8945 - lr: 1.0000e-05\n",
      "Epoch 17/50\n",
      "67/67 [==============================] - 27s 399ms/step - loss: 4.5988 - accuracy: 0.9038 - val_loss: 4.5784 - val_accuracy: 0.9062 - lr: 1.0000e-05\n",
      "Epoch 18/50\n",
      "67/67 [==============================] - 27s 397ms/step - loss: 4.5156 - accuracy: 0.9164 - val_loss: 4.4990 - val_accuracy: 0.9219 - lr: 1.0000e-05\n",
      "Epoch 19/50\n",
      "67/67 [==============================] - 28s 414ms/step - loss: 4.4751 - accuracy: 0.9221 - val_loss: 4.4684 - val_accuracy: 0.9082 - lr: 1.0000e-05\n",
      "Epoch 20/50\n",
      "67/67 [==============================] - 29s 433ms/step - loss: 4.4216 - accuracy: 0.9201 - val_loss: 4.3992 - val_accuracy: 0.9238 - lr: 1.0000e-05\n",
      "Epoch 21/50\n",
      "67/67 [==============================] - 27s 395ms/step - loss: 4.3701 - accuracy: 0.9169 - val_loss: 4.3990 - val_accuracy: 0.9160 - lr: 1.0000e-05\n",
      "Epoch 22/50\n",
      "67/67 [==============================] - 27s 396ms/step - loss: 4.3122 - accuracy: 0.9295 - val_loss: 4.3353 - val_accuracy: 0.9199 - lr: 1.0000e-05\n",
      "Epoch 23/50\n",
      "67/67 [==============================] - 27s 402ms/step - loss: 4.2548 - accuracy: 0.9267 - val_loss: 4.2773 - val_accuracy: 0.9297 - lr: 1.0000e-05\n",
      "Epoch 24/50\n",
      "67/67 [==============================] - 27s 404ms/step - loss: 4.1855 - accuracy: 0.9369 - val_loss: 4.2356 - val_accuracy: 0.9297 - lr: 1.0000e-05\n",
      "Epoch 25/50\n",
      "67/67 [==============================] - 27s 403ms/step - loss: 4.1522 - accuracy: 0.9454 - val_loss: 4.1980 - val_accuracy: 0.9219 - lr: 1.0000e-05\n",
      "Epoch 26/50\n",
      "67/67 [==============================] - 27s 407ms/step - loss: 4.0982 - accuracy: 0.9500 - val_loss: 4.1346 - val_accuracy: 0.9277 - lr: 1.0000e-05\n",
      "Epoch 27/50\n",
      "67/67 [==============================] - 31s 456ms/step - loss: 4.0668 - accuracy: 0.9421 - val_loss: 4.1344 - val_accuracy: 0.9199 - lr: 1.0000e-05\n",
      "Epoch 28/50\n",
      "67/67 [==============================] - 31s 454ms/step - loss: 4.0167 - accuracy: 0.9491 - val_loss: 4.0542 - val_accuracy: 0.9336 - lr: 1.0000e-05\n",
      "Epoch 29/50\n",
      "67/67 [==============================] - 34s 512ms/step - loss: 3.9658 - accuracy: 0.9486 - val_loss: 4.0619 - val_accuracy: 0.9180 - lr: 1.0000e-05\n",
      "Epoch 30/50\n",
      "67/67 [==============================] - 30s 442ms/step - loss: 3.9507 - accuracy: 0.9491 - val_loss: 3.9816 - val_accuracy: 0.9375 - lr: 1.0000e-05\n",
      "Epoch 31/50\n",
      "67/67 [==============================] - 29s 424ms/step - loss: 3.8734 - accuracy: 0.9570 - val_loss: 3.9526 - val_accuracy: 0.9316 - lr: 1.0000e-05\n",
      "Epoch 32/50\n",
      "67/67 [==============================] - 29s 427ms/step - loss: 3.8385 - accuracy: 0.9594 - val_loss: 3.8993 - val_accuracy: 0.9375 - lr: 1.0000e-05\n",
      "Epoch 33/50\n",
      "67/67 [==============================] - 28s 411ms/step - loss: 3.8095 - accuracy: 0.9580 - val_loss: 3.8863 - val_accuracy: 0.9277 - lr: 1.0000e-05\n",
      "Epoch 34/50\n",
      "67/67 [==============================] - 31s 459ms/step - loss: 3.7454 - accuracy: 0.9626 - val_loss: 3.7781 - val_accuracy: 0.9453 - lr: 1.0000e-05\n",
      "Epoch 35/50\n",
      "67/67 [==============================] - 31s 457ms/step - loss: 3.7099 - accuracy: 0.9631 - val_loss: 3.7807 - val_accuracy: 0.9336 - lr: 1.0000e-05\n",
      "Epoch 36/50\n",
      "67/67 [==============================] - 33s 491ms/step - loss: 3.6696 - accuracy: 0.9654 - val_loss: 3.8075 - val_accuracy: 0.9160 - lr: 1.0000e-05\n",
      "Epoch 37/50\n",
      "67/67 [==============================] - 30s 440ms/step - loss: 3.6377 - accuracy: 0.9612 - val_loss: 3.6827 - val_accuracy: 0.9355 - lr: 1.0000e-05\n",
      "Epoch 38/50\n",
      "67/67 [==============================] - 38s 556ms/step - loss: 3.5817 - accuracy: 0.9734 - val_loss: 3.6564 - val_accuracy: 0.9375 - lr: 1.0000e-05\n",
      "Epoch 39/50\n",
      "67/67 [==============================] - 30s 440ms/step - loss: 3.5623 - accuracy: 0.9631 - val_loss: 3.6200 - val_accuracy: 0.9434 - lr: 1.0000e-05\n",
      "Epoch 40/50\n",
      "67/67 [==============================] - 33s 494ms/step - loss: 3.5048 - accuracy: 0.9720 - val_loss: 3.5948 - val_accuracy: 0.9375 - lr: 1.0000e-05\n",
      "Epoch 41/50\n",
      "67/67 [==============================] - 34s 506ms/step - loss: 3.4788 - accuracy: 0.9710 - val_loss: 3.5432 - val_accuracy: 0.9453 - lr: 1.0000e-05\n",
      "Epoch 42/50\n",
      "67/67 [==============================] - 30s 446ms/step - loss: 3.4224 - accuracy: 0.9762 - val_loss: 3.5026 - val_accuracy: 0.9434 - lr: 1.0000e-05\n",
      "Epoch 43/50\n",
      "67/67 [==============================] - 30s 442ms/step - loss: 3.3943 - accuracy: 0.9734 - val_loss: 3.5264 - val_accuracy: 0.9219 - lr: 1.0000e-05\n",
      "Epoch 44/50\n",
      "67/67 [==============================] - 29s 434ms/step - loss: 3.3554 - accuracy: 0.9757 - val_loss: 3.4413 - val_accuracy: 0.9355 - lr: 1.0000e-05\n",
      "Epoch 45/50\n",
      "67/67 [==============================] - 30s 445ms/step - loss: 3.3014 - accuracy: 0.9818 - val_loss: 3.3812 - val_accuracy: 0.9492 - lr: 1.0000e-05\n",
      "Epoch 46/50\n",
      "67/67 [==============================] - 28s 415ms/step - loss: 3.2868 - accuracy: 0.9776 - val_loss: 3.3437 - val_accuracy: 0.9531 - lr: 1.0000e-05\n",
      "Epoch 47/50\n",
      "67/67 [==============================] - 29s 432ms/step - loss: 3.2480 - accuracy: 0.9762 - val_loss: 3.3097 - val_accuracy: 0.9492 - lr: 1.0000e-05\n",
      "Epoch 48/50\n",
      "67/67 [==============================] - 32s 470ms/step - loss: 3.2045 - accuracy: 0.9827 - val_loss: 3.3153 - val_accuracy: 0.9434 - lr: 1.0000e-05\n",
      "Epoch 49/50\n",
      "67/67 [==============================] - 29s 428ms/step - loss: 3.1650 - accuracy: 0.9855 - val_loss: 3.2561 - val_accuracy: 0.9473 - lr: 1.0000e-05\n",
      "Epoch 50/50\n",
      "67/67 [==============================] - 28s 421ms/step - loss: 3.1340 - accuracy: 0.9771 - val_loss: 3.2915 - val_accuracy: 0.9219 - lr: 1.0000e-05\n"
     ]
    }
   ],
   "source": [
    "# Train with more epochs (early stopping will handle it)\n",
    "history = model.fit(\n",
    "    train_it,\n",
    "    validation_data=valid_it,\n",
    "    steps_per_epoch=int(train_it.samples/train_it.batch_size),\n",
    "    validation_steps=int(valid_it.samples/valid_it.batch_size),\n",
    "    epochs=50, \n",
    "    callbacks=[early_stopping, reduce_lr],\n",
    "    class_weight=class_weights\n",
    ")"
   ]
  },
  {
   "cell_type": "code",
   "execution_count": 54,
   "id": "5fe6d2fd",
   "metadata": {},
   "outputs": [
    {
     "name": "stdout",
     "output_type": "stream",
     "text": [
      "16/16 [==============================] - 6s 330ms/step - loss: 3.2469 - accuracy: 0.9375\n",
      "Validation Loss: 3.2469, Accuracy: 0.9375\n"
     ]
    }
   ],
   "source": [
    "# Evaluation\n",
    "loss, acc = model.evaluate(valid_it, steps=int(valid_it.samples/valid_it.batch_size))\n",
    "print(f\"Validation Loss: {loss:.4f}, Accuracy: {acc:.4f}\")"
   ]
  },
  {
   "cell_type": "code",
   "execution_count": 55,
   "id": "e2b20de6",
   "metadata": {},
   "outputs": [
    {
     "name": "stdout",
     "output_type": "stream",
     "text": [
      "Found 4029 images belonging to 12 classes.\n",
      "126/126 [==============================] - 39s 306ms/step\n",
      "[[203   2   7   0  34   0   0   0 145   4   0   0]\n",
      " [  0 374   0   0   0   1   0   0   3   3   0   0]\n",
      " [  6   7 358   0   3   0   3   0  10   1   0   0]\n",
      " [  0   0   0  63   0   0   0   1   0   0   0   0]\n",
      " [ 15   4   3   0 552   4  17   1   4   1   0   0]\n",
      " [  1  24   0   0  10 455  11  18   0   2   9   0]\n",
      " [  0   0  19   0  24   0 358   1   0   0   1   0]\n",
      " [  0   0   0   0   3   3   0  29   5   0   0   0]\n",
      " [ 33   7   2  10  15   3   3  11 120  20 145  22]\n",
      " [  0  42   1   1   4  16   3   6   5 279  34   9]\n",
      " [  4  12  46   9   3   8  15   7  32  38 192  34]\n",
      " [  0   0   0   0   0   0   0   0   0   0   4  32]]\n",
      "              precision    recall  f1-score   support\n",
      "\n",
      "           0       0.77      0.51      0.62       395\n",
      "           1       0.79      0.98      0.88       381\n",
      "           2       0.82      0.92      0.87       388\n",
      "           3       0.76      0.98      0.86        64\n",
      "           4       0.85      0.92      0.88       601\n",
      "           5       0.93      0.86      0.89       530\n",
      "           6       0.87      0.89      0.88       403\n",
      "           7       0.39      0.72      0.51        40\n",
      "           8       0.37      0.31      0.34       391\n",
      "           9       0.80      0.70      0.75       400\n",
      "          10       0.50      0.48      0.49       400\n",
      "          11       0.33      0.89      0.48        36\n",
      "\n",
      "    accuracy                           0.75      4029\n",
      "   macro avg       0.68      0.76      0.70      4029\n",
      "weighted avg       0.75      0.75      0.74      4029\n",
      "\n"
     ]
    }
   ],
   "source": [
    "import numpy as np\n",
    "from sklearn.metrics import confusion_matrix, classification_report\n",
    "\n",
    "# Test evaluation\n",
    "test_generator = train_datagen.flow_from_directory(\n",
    "    'dataset/test',\n",
    "    target_size=(224, 224),\n",
    "    class_mode='categorical',\n",
    "    color_mode='rgb',\n",
    "    shuffle=False\n",
    ")\n",
    "\n",
    "predictions = model.predict(test_generator)\n",
    "true_labels = test_generator.classes\n",
    "predicted_labels = np.argmax(predictions, axis=1)\n",
    "\n",
    "print(confusion_matrix(true_labels, predicted_labels))\n",
    "print(classification_report(true_labels, predicted_labels))"
   ]
  },
  {
   "cell_type": "code",
   "execution_count": 56,
   "id": "a12b075e",
   "metadata": {},
   "outputs": [
    {
     "data": {
      "image/png": "[encoded data removed]",
      "text/plain": [
       "<Figure size 640x480 with 1 Axes>"
      ]
     },
     "metadata": {},
     "output_type": "display_data"
    }
   ],
   "source": [
    "import matplotlib.pyplot as plt\n",
    "\n",
    "# Misal variabel 'history' adalah hasil dari model.fit()\n",
    "plt.plot(history.history['accuracy'], label='Train Accuracy')\n",
    "plt.plot(history.history['val_accuracy'], label='Val Accuracy')\n",
    "plt.plot(history.history['loss'], label='Train Loss')\n",
    "plt.plot(history.history['val_loss'], label='Val Loss')\n",
    "plt.legend()\n",
    "plt.title('Training vs Validation Metrics')\n",
    "plt.xlabel('Epoch')\n",
    "plt.ylabel('Value')\n",
    "plt.show()\n"
   ]
  },
  {
   "cell_type": "code",
   "execution_count": 57,
   "id": "9557c3dd",
   "metadata": {},
   "outputs": [],
   "source": [
    "model.save('cnnVGG19v4.h5')"
   ]
  },
  {
   "cell_type": "code",
   "execution_count": 58,
   "id": "808511f5",
   "metadata": {},
   "outputs": [],
   "source": [
    "import os\n",
    "from collections import defaultdict\n",
    "import hashlib\n",
    "\n",
    "dataset_path = 'GOOGLEIMAGES/train'  # Ganti dengan path dataset Anda\n",
    "\n",
    "def file_hash(filepath):\n",
    "    with open(filepath, 'rb') as f:\n",
    "        return hashlib.md5(f.read()).hexdigest()\n",
    "\n",
    "# Kumpulkan semua path gambar\n",
    "all_files = []\n",
    "for root, dirs, files in os.walk(dataset_path):\n",
    "    for file in files:\n",
    "        if file.lower().endswith(('.png', '.jpg', '.jpeg')):\n",
    "            all_files.append(os.path.join(root, file))\n",
    "\n",
    "# Hitung hash\n",
    "hashes = defaultdict(list)\n",
    "for file in all_files:\n",
    "    hashes[file_hash(file)].append(file)\n",
    "\n",
    "# Tampilkan duplikat\n",
    "for hash_val, files in hashes.items():\n",
    "    if len(files) > 1:\n",
    "        print(f\"Duplikat ({len(files)} gambar):\")\n",
    "        for f in files:\n",
    "            print(f\"  - {f}\")"
   ]
  }
 ],
 "metadata": {
  "kernelspec": {
   "display_name": "fix-pbb",
   "language": "python",
   "name": "python3"
  },
  "language_info": {
   "codemirror_mode": {
    "name": "ipython",
    "version": 3
   },
   "file_extension": ".py",
   "mimetype": "text/x-python",
   "name": "python",
   "nbconvert_exporter": "python",
   "pygments_lexer": "ipython3",
   "version": "3.9.20"
  }
 },
 "nbformat": 4,
 "nbformat_minor": 5
}
